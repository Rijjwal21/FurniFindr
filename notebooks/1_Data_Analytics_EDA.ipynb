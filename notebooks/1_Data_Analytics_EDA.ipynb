{
 "cells": [
  {
   "cell_type": "code",
   "execution_count": null,
   "id": "672cc5c9",
   "metadata": {
    "vscode": {
     "languageId": "plaintext"
    }
   },
   "outputs": [],
   "source": [
    "import pandas as pd\n",
    "import numpy as np\n",
    "import matplotlib.pyplot as plt\n",
    "import seaborn as sns\n",
    "import ast\n",
    "import re\n",
    "\n",
    "%matplotlib inline\n",
    "sns.set_style(\"whitegrid\")"
   ]
  },
  {
   "cell_type": "code",
   "execution_count": null,
   "id": "4cfe175a",
   "metadata": {
    "vscode": {
     "languageId": "plaintext"
    }
   },
   "outputs": [],
   "source": [
    "# Set the path to the sample data\n",
    "# This path is relative to the `notebooks/` directory\n",
    "DATA_PATH = \"../backend/app/data_ingestion/sample_data.csv\"\n",
    "\n",
    "try:\n",
    "    df = pd.read_csv(DATA_PATH)\n",
    "    print(f\"Successfully loaded data from {DATA_PATH}\")\n",
    "    print(f\"Dataset shape: {df.shape}\")\n",
    "except FileNotFoundError:\n",
    "    print(f\"Error: File not found at {DATA_PATH}\")\n",
    "    print(\"Please ensure the sample_data.csv file exists in backend/app/data_ingestion/\")\n",
    "\n",
    "df.head()"
   ]
  },
  {
   "cell_type": "code",
   "execution_count": null,
   "id": "bc38d4a7",
   "metadata": {
    "vscode": {
     "languageId": "plaintext"
    }
   },
   "outputs": [],
   "source": [
    "df.info()"
   ]
  },
  {
   "cell_type": "code",
   "execution_count": null,
   "id": "c21dcb2f",
   "metadata": {
    "vscode": {
     "languageId": "plaintext"
    }
   },
   "outputs": [],
   "source": [
    "# Handle missing values\n",
    "df = df.fillna(\"\")\n",
    "\n",
    "# 1. Clean 'price' column\n",
    "def clean_price(price_str):\n",
    "    if not isinstance(price_str, str):\n",
    "        return np.nan\n",
    "    try:\n",
    "        return float(re.sub(r\"[$,]\", \"\", price_str))\n",
    "    except (ValueError, TypeError):\n",
    "        return np.nan\n",
    "\n",
    "df['price_clean'] = df['price'].apply(clean_price)\n",
    "\n",
    "# 2. Clean 'categories' and 'images' columns\n",
    "def safe_literal_eval(val):\n",
    "    if not isinstance(val, str) or not val.startswith('['):\n",
    "        return []\n",
    "    try:\n",
    "        return ast.literal_eval(val)\n",
    "    except (ValueError, SyntaxError):\n",
    "        return []\n",
    "\n",
    "df['categories_clean'] = df['categories'].apply(safe_literal_eval)\n",
    "df['images_clean'] = df['images'].apply(safe_literal_eval)\n",
    "\n",
    "print(\"Cleaned DataFrame:\")\n",
    "df[['title', 'price_clean', 'categories_clean', 'images_clean']].head()"
   ]
  },
  {
   "cell_type": "code",
   "execution_count": null,
   "id": "fe510848",
   "metadata": {
    "vscode": {
     "languageId": "plaintext"
    }
   },
   "outputs": [],
   "source": [
    "plt.figure(figsize=(10, 6))\n",
    "sns.histplot(df['price_clean'].dropna(), bins=30, kde=True)\n",
    "plt.title('Price Distribution')\n",
    "plt.xlabel('Price ($)')\n",
    "plt.ylabel('Count')\n",
    "plt.show()\n",
    "\n",
    "print(\"This chart shows the distribution of product prices, helping to understand the price range of the dataset.\")"
   ]
  },
  {
   "cell_type": "code",
   "execution_count": null,
   "id": "9688c274",
   "metadata": {
    "vscode": {
     "languageId": "plaintext"
    }
   },
   "outputs": [],
   "source": [
    "# Explode the lists of categories into individual rows\n",
    "all_categories = df['categories_clean'].explode().str.strip()\n",
    "\n",
    "# Get value counts\n",
    "top_categories = all_categories.value_counts().head(15)\n",
    "\n",
    "plt.figure(figsize=(12, 8))\n",
    "sns.barplot(x=top_categories.values, y=top_categories.index, palette=\"viridis\")\n",
    "plt.title('Top 15 Most Common Product Categories')\n",
    "plt.xlabel('Count')\n",
    "plt.ylabel('Category')\n",
    "plt.show()\n",
    "\n",
    "print(\"This chart identifies the most common product categories, which is key for analytics and classification tasks.\")"
   ]
  },
  {
   "cell_type": "code",
   "execution_count": null,
   "id": "156dacf6",
   "metadata": {
    "vscode": {
     "languageId": "plaintext"
    }
   },
   "outputs": [],
   "source": [
    "top_brands = df['brand'].value_counts().head(15)\n",
    "\n",
    "plt.figure(figsize=(12, 8))\n",
    "sns.barplot(x=top_brands.values, y=top_brands.index, palette=\"rocket\")\n",
    "plt.title('Top 15 Most Common Brands')\n",
    "plt.xlabel('Count')\n",
    "plt.ylabel('Brand')\n",
    "plt.show()\n",
    "\n",
    "print(\"This chart shows the top brands in the dataset, which feeds directly into the 'Top Brands' chart on the analytics page.\")"
   ]
  },
  {
   "cell_type": "code",
   "execution_count": null,
   "id": "1b1304b5",
   "metadata": {
    "vscode": {
     "languageId": "plaintext"
    }
   },
   "outputs": [],
   "source": [
    "df['has_image'] = df['images_clean'].apply(lambda x: len(x) > 0)\n",
    "df['has_description'] = df['description'].apply(lambda x: len(str(x).strip()) > 10) # Has a description longer than 10 chars\n",
    "\n",
    "image_coverage = (df['has_image'].sum() / len(df)) * 100\n",
    "description_coverage = (df['has_description'].sum() / len(df)) * 100\n",
    "\n",
    "print(f\"Image Coverage: {image_coverage:.2f}%\")\n",
    "print(f\"Description Coverage: {description_coverage:.2f}%\")\n",
    "\n",
    "coverage_data = pd.DataFrame({\n",
    "    'Feature': ['Has Image', 'Has Description'],\n",
    "    'Percentage': [image_coverage, description_coverage]\n",
    "})\n",
    "\n",
    "plt.figure(figsize=(8, 5))\n",
    "sns.barplot(x='Feature', y='Percentage', data=coverage_data)\n",
    "plt.title('Data Coverage')\n",
    "plt.ylabel('Percentage (%)')\n",
    "plt.ylim(0, 100)\n",
    "plt.show()\n",
    "\n",
    "print(\"This plot checks data quality. High coverage is essential for both the frontend (images) and the NLP models (descriptions).\")"
   ]
  },
  {
   "cell_type": "code",
   "execution_count": null,
   "id": "030d563c",
   "metadata": {
    "vscode": {
     "languageId": "plaintext"
    }
   },
   "outputs": [],
   "source": []
  }
 ],
 "metadata": {
  "language_info": {
   "name": "python"
  }
 },
 "nbformat": 4,
 "nbformat_minor": 5
}
